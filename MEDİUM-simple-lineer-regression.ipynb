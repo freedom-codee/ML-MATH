{
 "cells": [
  {
   "cell_type": "code",
   "execution_count": 1,
   "metadata": {},
   "outputs": [],
   "source": [
    "\n",
    "import pandas as pd\n",
    "import seaborn as sns\n",
    "\n"
   ]
  },
  {
   "cell_type": "code",
   "execution_count": 78,
   "metadata": {},
   "outputs": [
    {
     "data": {
      "text/html": [
       "<div>\n",
       "<style scoped>\n",
       "    .dataframe tbody tr th:only-of-type {\n",
       "        vertical-align: middle;\n",
       "    }\n",
       "\n",
       "    .dataframe tbody tr th {\n",
       "        vertical-align: top;\n",
       "    }\n",
       "\n",
       "    .dataframe thead th {\n",
       "        text-align: right;\n",
       "    }\n",
       "</style>\n",
       "<table border=\"1\" class=\"dataframe\">\n",
       "  <thead>\n",
       "    <tr style=\"text-align: right;\">\n",
       "      <th></th>\n",
       "      <th>Gübre(ton)</th>\n",
       "      <th>Buğday(ton)</th>\n",
       "    </tr>\n",
       "  </thead>\n",
       "  <tbody>\n",
       "    <tr>\n",
       "      <th>0</th>\n",
       "      <td>50</td>\n",
       "      <td>100</td>\n",
       "    </tr>\n",
       "    <tr>\n",
       "      <th>1</th>\n",
       "      <td>20</td>\n",
       "      <td>50</td>\n",
       "    </tr>\n",
       "    <tr>\n",
       "      <th>2</th>\n",
       "      <td>36</td>\n",
       "      <td>65</td>\n",
       "    </tr>\n",
       "    <tr>\n",
       "      <th>3</th>\n",
       "      <td>58</td>\n",
       "      <td>90</td>\n",
       "    </tr>\n",
       "    <tr>\n",
       "      <th>4</th>\n",
       "      <td>74</td>\n",
       "      <td>120</td>\n",
       "    </tr>\n",
       "    <tr>\n",
       "      <th>5</th>\n",
       "      <td>40</td>\n",
       "      <td>80</td>\n",
       "    </tr>\n",
       "    <tr>\n",
       "      <th>6</th>\n",
       "      <td>66</td>\n",
       "      <td>110</td>\n",
       "    </tr>\n",
       "    <tr>\n",
       "      <th>7</th>\n",
       "      <td>25</td>\n",
       "      <td>55</td>\n",
       "    </tr>\n",
       "    <tr>\n",
       "      <th>8</th>\n",
       "      <td>45</td>\n",
       "      <td>90</td>\n",
       "    </tr>\n",
       "    <tr>\n",
       "      <th>9</th>\n",
       "      <td>80</td>\n",
       "      <td>150</td>\n",
       "    </tr>\n",
       "  </tbody>\n",
       "</table>\n",
       "</div>"
      ],
      "text/plain": [
       "   Gübre(ton)  Buğday(ton)\n",
       "0          50          100\n",
       "1          20           50\n",
       "2          36           65\n",
       "3          58           90\n",
       "4          74          120\n",
       "5          40           80\n",
       "6          66          110\n",
       "7          25           55\n",
       "8          45           90\n",
       "9          80          150"
      ]
     },
     "execution_count": 78,
     "metadata": {},
     "output_type": "execute_result"
    }
   ],
   "source": [
    "\n",
    "veri = pd.DataFrame({\"Gübre(ton)\":[50,20,36,58,74,40,66,25,45,80],\n",
    "                     \"Buğday(ton)\":[100,50,65,90,120,80,110,55,90,150]})\n",
    "\n",
    "veri\n"
   ]
  },
  {
   "cell_type": "code",
   "execution_count": 79,
   "metadata": {},
   "outputs": [
    {
     "data": {
      "image/png": "[encoded data removed]",
      "text/plain": [
       "<Figure size 432x288 with 1 Axes>"
      ]
     },
     "metadata": {
      "needs_background": "light"
     },
     "output_type": "display_data"
    }
   ],
   "source": [
    "\n",
    "reg = sns.regplot(x='Gübre(ton)',y = \"Buğday(ton)\",data=veri)\n",
    "reg.set_title(\"Gübre-Buğday ilişki grafiği\");\n"
   ]
  },
  {
   "cell_type": "code",
   "execution_count": 80,
   "metadata": {},
   "outputs": [
    {
     "data": {
      "text/plain": [
       "10"
      ]
     },
     "execution_count": 80,
     "metadata": {},
     "output_type": "execute_result"
    }
   ],
   "source": [
    "n = len(veri) # veri setimizin uzunluğu\n",
    "n"
   ]
  },
  {
   "cell_type": "code",
   "execution_count": 81,
   "metadata": {},
   "outputs": [],
   "source": [
    "\n",
    "n = len(veri) # veri setimizin uzunluğu\n",
    "gubre_toplam = veri[\"Gübre(ton)\"].sum() # bağımsız değişkenin toplamını elde ettik.\n",
    "bugday_toplam = veri[\"Buğday(ton)\"].sum() # bağımlı değişkenin toplamı elde ettik.\n",
    "bugday_ortalama = bugday_toplam/n\n",
    "gubre_ortalama = gubre_toplam/n\n"
   ]
  },
  {
   "cell_type": "code",
   "execution_count": 82,
   "metadata": {},
   "outputs": [
    {
     "name": "stdout",
     "output_type": "stream",
     "text": [
      "gübre_ort:49.4\n",
      "buğday_ort:91.0\n"
     ]
    }
   ],
   "source": [
    "print(f\"gübre_ort:{gubre_ortalama}\\nbuğday_ort:{bugday_ortalama}\")"
   ]
  },
  {
   "cell_type": "code",
   "execution_count": 83,
   "metadata": {},
   "outputs": [],
   "source": [
    "\n",
    "\n",
    "üst_denklem = 0 #üst ve alt denklemde toplama yapacağımız için başta 0 sıfır olarak tanımladık\n",
    "alt_denklem = 0\n",
    "for gubre,bugday in zip(veri[\"Gübre(ton)\"],veri[\"Buğday(ton)\"]):\n",
    "    üst_denklem += (gubre-gubre_ortalama)*(bugday-bugday_ortalama)\n",
    "    alt_denklem += ((gubre-gubre_ortalama)**2)\n",
    "\n",
    "\n"
   ]
  },
  {
   "cell_type": "code",
   "execution_count": 85,
   "metadata": {},
   "outputs": [
    {
     "name": "stdout",
     "output_type": "stream",
     "text": [
      "üst_denklem:5371.0\n",
      "alt_denklem:3638.4000000000005\n"
     ]
    }
   ],
   "source": [
    "print(f\"üst_denklem:{üst_denklem}\\nalt_denklem:{alt_denklem}\")"
   ]
  },
  {
   "cell_type": "code",
   "execution_count": 86,
   "metadata": {},
   "outputs": [
    {
     "data": {
      "text/plain": [
       "1.4761983289357958"
      ]
     },
     "execution_count": 86,
     "metadata": {},
     "output_type": "execute_result"
    }
   ],
   "source": [
    "b1 = üst_denklem/alt_denklem\n",
    "b1 # eğim(coef)"
   ]
  },
  {
   "cell_type": "code",
   "execution_count": 103,
   "metadata": {},
   "outputs": [
    {
     "data": {
      "text/plain": [
       "18.075802550571694"
      ]
     },
     "execution_count": 103,
     "metadata": {},
     "output_type": "execute_result"
    }
   ],
   "source": [
    "b0 = bugday_ortalama-(b1*gubre_ortalama)\n",
    "b0 # kesim noktası(intercept)"
   ]
  },
  {
   "cell_type": "code",
   "execution_count": 111,
   "metadata": {},
   "outputs": [
    {
     "name": "stdout",
     "output_type": "stream",
     "text": [
      "Gübre(ton) girin:90\n",
      "90.0 ton gübre kullanırsanız tahmini: 150.93365215 ton buğday elde edersiniz\n"
     ]
    }
   ],
   "source": [
    "gubre_degeri = float(input(\"Gübre(ton) girin:\"))\n",
    "tahmin_sonucu = round(b0+(b1*gubre_degeri),8)\n",
    "print(f\"{gubre_degeri} ton gübre kullanırsanız tahmini: {tahmin_sonucu} ton buğday elde edersiniz\")"
   ]
  },
  {
   "cell_type": "markdown",
   "metadata": {},
   "source": [
    "### RMSE(HATA KARELER TOPLAMIN KAREKÖKÜ) & SSE(HATA KARELER TOPLAMI)\n",
    "### MSE ( HATA KARELER ORTALAMASI)"
   ]
  },
  {
   "cell_type": "code",
   "execution_count": 107,
   "metadata": {},
   "outputs": [
    {
     "name": "stdout",
     "output_type": "stream",
     "text": [
      "SSE degeri: 611.3387752858396\n"
     ]
    }
   ],
   "source": [
    "SSE = 0 # sse(hata kareler toplamı)\n",
    "for gubre,gercek_deger in zip(veri[\"Gübre(ton)\"],veri[\"Buğday(ton)\"]):\n",
    "    tahmin = b0+(b1*gubre)\n",
    "    SSE += ((tahmin-gercek_deger)**2)\n",
    "print(\"SSE degeri:\",SSE)"
   ]
  },
  {
   "cell_type": "code",
   "execution_count": 109,
   "metadata": {},
   "outputs": [
    {
     "data": {
      "text/plain": [
       "61.13387752858396"
      ]
     },
     "execution_count": 109,
     "metadata": {},
     "output_type": "execute_result"
    }
   ],
   "source": [
    "MSE = SSE/n # mse(hata kareler toplamının ortalaması)\n",
    "MSE"
   ]
  },
  {
   "cell_type": "code",
   "execution_count": 110,
   "metadata": {},
   "outputs": [
    {
     "data": {
      "text/plain": [
       "7.818815609066629"
      ]
     },
     "execution_count": 110,
     "metadata": {},
     "output_type": "execute_result"
    }
   ],
   "source": [
    "RMSE = pow(MSE,(1/2)) # RMSE(hata kareler ortalamasının karekökü)\n",
    "RMSE"
   ]
  },
  {
   "cell_type": "markdown",
   "metadata": {},
   "source": [
    "# Model Tuning"
   ]
  },
  {
   "cell_type": "code",
   "execution_count": 13,
   "metadata": {},
   "outputs": [],
   "source": [
    "from sklearn.linear_model import LinearRegression"
   ]
  },
  {
   "cell_type": "code",
   "execution_count": 92,
   "metadata": {},
   "outputs": [],
   "source": [
    "x = veri[[\"Gübre(ton)\"]]"
   ]
  },
  {
   "cell_type": "code",
   "execution_count": 93,
   "metadata": {},
   "outputs": [],
   "source": [
    "y = veri[[\"Buğday(ton)\"]]"
   ]
  },
  {
   "cell_type": "code",
   "execution_count": 94,
   "metadata": {},
   "outputs": [],
   "source": [
    "model = LinearRegression().fit(x,y)"
   ]
  },
  {
   "cell_type": "code",
   "execution_count": 95,
   "metadata": {},
   "outputs": [
    {
     "data": {
      "text/plain": [
       "array([[1.47619833]])"
      ]
     },
     "execution_count": 95,
     "metadata": {},
     "output_type": "execute_result"
    }
   ],
   "source": [
    "model.coef_"
   ]
  },
  {
   "cell_type": "code",
   "execution_count": 96,
   "metadata": {},
   "outputs": [
    {
     "data": {
      "text/plain": [
       "array([18.07580255])"
      ]
     },
     "execution_count": 96,
     "metadata": {},
     "output_type": "execute_result"
    }
   ],
   "source": [
    "model.intercept_"
   ]
  },
  {
   "cell_type": "code",
   "execution_count": 101,
   "metadata": {},
   "outputs": [
    {
     "data": {
      "text/plain": [
       "array([[150.93365215]])"
      ]
     },
     "execution_count": 101,
     "metadata": {},
     "output_type": "execute_result"
    }
   ],
   "source": [
    "model.predict([[90]])"
   ]
  },
  {
   "cell_type": "code",
   "execution_count": 97,
   "metadata": {},
   "outputs": [
    {
     "data": {
      "text/plain": [
       "array([[ 91.885719  ],\n",
       "       [ 47.59976913],\n",
       "       [ 71.21894239],\n",
       "       [103.69530563],\n",
       "       [127.31447889],\n",
       "       [ 77.12373571],\n",
       "       [115.50489226],\n",
       "       [ 54.98076077],\n",
       "       [ 84.50472735],\n",
       "       [136.17166887]])"
      ]
     },
     "execution_count": 97,
     "metadata": {},
     "output_type": "execute_result"
    }
   ],
   "source": [
    "model.predict(veri[[\"Gübre(ton)\"]])"
   ]
  },
  {
   "cell_type": "code",
   "execution_count": 98,
   "metadata": {},
   "outputs": [
    {
     "data": {
      "text/plain": [
       "0.9284146633154755"
      ]
     },
     "execution_count": 98,
     "metadata": {},
     "output_type": "execute_result"
    }
   ],
   "source": [
    "model.score(x,y)"
   ]
  },
  {
   "cell_type": "code",
   "execution_count": 99,
   "metadata": {},
   "outputs": [
    {
     "data": {
      "text/plain": [
       "array([[7.81881561]])"
      ]
     },
     "execution_count": 99,
     "metadata": {},
     "output_type": "execute_result"
    }
   ],
   "source": [
    "sse = 0 # sse(hata kareler toplamı)\n",
    "for gubre,gercek_deger in zip(veri[\"Gübre(ton)\"],veri[\"Buğday(ton)\"]):\n",
    "    tahmin = model.predict([[gubre]])\n",
    "    sse += ((tahmin-gercek_deger)**2)\n",
    "MSE = sse/n # mse(hata kareler toplamının ortalaması)\n",
    "RMSE = pow(MSE,(1/2)) # RMSE(hata kareler ortalamasının karekökü)\n",
    "RMSE"
   ]
  },
  {
   "cell_type": "code",
   "execution_count": null,
   "metadata": {},
   "outputs": [],
   "source": []
  }
 ],
 "metadata": {
  "kernelspec": {
   "display_name": "Python 3",
   "language": "python",
   "name": "python3"
  },
  "language_info": {
   "codemirror_mode": {
    "name": "ipython",
    "version": 3
   },
   "file_extension": ".py",
   "mimetype": "text/x-python",
   "name": "python",
   "nbconvert_exporter": "python",
   "pygments_lexer": "ipython3",
   "version": "3.7.6"
  }
 },
 "nbformat": 4,
 "nbformat_minor": 4
}
